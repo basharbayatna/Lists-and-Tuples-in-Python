{
  "nbformat": 4,
  "nbformat_minor": 0,
  "metadata": {
    "colab": {
      "provenance": [],
      "authorship_tag": "ABX9TyNKZuI4iYfQI30EWch79mzU",
      "include_colab_link": true
    },
    "kernelspec": {
      "name": "python3",
      "display_name": "Python 3"
    },
    "language_info": {
      "name": "python"
    }
  },
  "cells": [
    {
      "cell_type": "markdown",
      "metadata": {
        "id": "view-in-github",
        "colab_type": "text"
      },
      "source": [
        "<a href=\"https://colab.research.google.com/github/basharbayatna/Lists-and-Tuples-in-Python/blob/main/Lists_Practice.ipynb\" target=\"_parent\"><img src=\"https://colab.research.google.com/assets/colab-badge.svg\" alt=\"Open In Colab\"/></a>"
      ]
    },
    {
      "cell_type": "code",
      "execution_count": 36,
      "metadata": {
        "colab": {
          "base_uri": "https://localhost:8080/"
        },
        "id": "d7Z156iPBY-C",
        "outputId": "540e6450-a580-4a71-c8f8-6ea82850e9d6"
      },
      "outputs": [
        {
          "output_type": "stream",
          "name": "stdout",
          "text": [
            "['Speedy', 'Sparkles', 'Little Foot', 'Spike', 'Greg the Destroyer']\n"
          ]
        }
      ],
      "source": [
        "# Make a list of the first turtles to finish\n",
        "# Run this code without making any changes\n",
        "race_finishers = ['Speedy', 'Sparkles', 'Little Foot', 'Spike', 'Greg the Destroyer']\n",
        "print(race_finishers)\n",
        "\n",
        "\n",
        "\n",
        "\n",
        "\n",
        "\n"
      ]
    },
    {
      "cell_type": "code",
      "source": [
        "race_finishers[1] = 'Sparkly'\n",
        "\n",
        "print(race_finishers)"
      ],
      "metadata": {
        "colab": {
          "base_uri": "https://localhost:8080/"
        },
        "id": "6xpFbrSwB5Wz",
        "outputId": "3d43789b-39ca-4075-ef9b-6c2f25f45350"
      },
      "execution_count": 37,
      "outputs": [
        {
          "output_type": "stream",
          "name": "stdout",
          "text": [
            "['Speedy', 'Sparkly', 'Little Foot', 'Spike', 'Greg the Destroyer']\n"
          ]
        }
      ]
    },
    {
      "cell_type": "code",
      "source": [
        "race_finishers.append(\"Slowpoke\")\n",
        "print(race_finishers)"
      ],
      "metadata": {
        "colab": {
          "base_uri": "https://localhost:8080/"
        },
        "id": "orsJmXndBoSz",
        "outputId": "eaf35049-29fc-4aa1-fd0a-8d2993153586"
      },
      "execution_count": 38,
      "outputs": [
        {
          "output_type": "stream",
          "name": "stdout",
          "text": [
            "['Speedy', 'Sparkly', 'Little Foot', 'Spike', 'Greg the Destroyer', 'Slowpoke']\n"
          ]
        }
      ]
    },
    {
      "cell_type": "code",
      "source": [
        "print(race_finishers[0])"
      ],
      "metadata": {
        "colab": {
          "base_uri": "https://localhost:8080/"
        },
        "id": "Ye0SDUBIBrEC",
        "outputId": "1499be32-7f07-4bad-8d4a-519c3f385fd5"
      },
      "execution_count": 39,
      "outputs": [
        {
          "output_type": "stream",
          "name": "stdout",
          "text": [
            "Speedy\n"
          ]
        }
      ]
    },
    {
      "cell_type": "code",
      "source": [
        "print(race_finishers[-1])\n"
      ],
      "metadata": {
        "colab": {
          "base_uri": "https://localhost:8080/"
        },
        "id": "BPoiQynQBsls",
        "outputId": "7ac58f1b-a97f-4e6c-b97d-8cb8bc90c4d5"
      },
      "execution_count": 40,
      "outputs": [
        {
          "output_type": "stream",
          "name": "stdout",
          "text": [
            "Slowpoke\n"
          ]
        }
      ]
    },
    {
      "cell_type": "code",
      "source": [
        "race_finishers.remove('Little Foot')\n",
        "print(race_finishers)"
      ],
      "metadata": {
        "colab": {
          "base_uri": "https://localhost:8080/"
        },
        "id": "-ilYv05zB_FY",
        "outputId": "e9f875ad-99cc-449f-8d83-ee1bb10b2a3c"
      },
      "execution_count": 41,
      "outputs": [
        {
          "output_type": "stream",
          "name": "stdout",
          "text": [
            "['Speedy', 'Sparkly', 'Spike', 'Greg the Destroyer', 'Slowpoke']\n"
          ]
        }
      ]
    },
    {
      "cell_type": "code",
      "source": [
        "merchandise = ('Fangs', 'Tutus', 'Clown Noses', 'Scrubs', 'Cowboy Hats', 'Face Paint', 'Plastic Swords')\n",
        "top_three = merchandise[:3]\n",
        "print(top_three)\n",
        "\n",
        "\n",
        "\n"
      ],
      "metadata": {
        "colab": {
          "base_uri": "https://localhost:8080/"
        },
        "id": "TQ1Xavj-FqW_",
        "outputId": "9545795d-e5f8-4960-dd85-9ae49768fb24"
      },
      "execution_count": 42,
      "outputs": [
        {
          "output_type": "stream",
          "name": "stdout",
          "text": [
            "('Fangs', 'Tutus', 'Clown Noses')\n"
          ]
        }
      ]
    },
    {
      "cell_type": "code",
      "source": [
        "last_two = merchandise[-2:]\n",
        "print(last_two)"
      ],
      "metadata": {
        "colab": {
          "base_uri": "https://localhost:8080/"
        },
        "id": "y6fiBw5VBzP1",
        "outputId": "dbc3f14e-ed0b-46e6-e1ea-1725b561a09a"
      },
      "execution_count": 43,
      "outputs": [
        {
          "output_type": "stream",
          "name": "stdout",
          "text": [
            "('Face Paint', 'Plastic Swords')\n"
          ]
        }
      ]
    },
    {
      "cell_type": "code",
      "source": [
        "\n",
        "middle_two = merchandise[1:3]\n",
        "print(middle_two)"
      ],
      "metadata": {
        "colab": {
          "base_uri": "https://localhost:8080/"
        },
        "id": "bkcBx2lWB1kX",
        "outputId": "25b6306e-2e04-47a3-c054-ca30dd3d5534"
      },
      "execution_count": 44,
      "outputs": [
        {
          "output_type": "stream",
          "name": "stdout",
          "text": [
            "('Tutus', 'Clown Noses')\n"
          ]
        }
      ]
    }
  ]
}